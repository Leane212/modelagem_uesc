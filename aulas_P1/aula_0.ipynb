{
 "cells": [
  {
   "cell_type": "markdown",
   "metadata": {},
   "source": [
    "## <center>UNIVERSIDADE ESTADUAL DE SANTA CRUZ - UESC<center> <center>DEPARTAMENTO DE ENGENHARIAS E COMPUTAÇÃO - DEC </center>\n",
    "#### <center>CURSO DE ENGENHARIA QUÍMICA</center>\n",
    "\n",
    "**CET 1012** Modelagem, Simulação e Otimização de Processos Químicos.\n",
    "\n",
    "**Professor**: Prof. Dr E.R.Edwards\n",
    "\n",
    "**Tema:** Métodos Matriciais em Cálculos de Engenharia.\n",
    "\n",
    "**Assunto**Manipulação de matrizes para cálculo de Engenharia"
   ]
  },
  {
   "cell_type": "markdown",
   "metadata": {},
   "source": [
    "#### Definição de Matriz\n",
    "\n",
    "Matriz é um conjunto de dados divididos por linhas e colunas e possui uma estrutura matemática disposta em tabelas com operações de adição, subtração e multiplicação bem definidas. Existem casos especiais que são classificados de acordo com a característica da matriz. A matriz abaixo mostra a disposição\n",
    "\n",
    "$$ A_{i,j} = [a_{i,j}] $$\n",
    "\n",
    "De tal forma que:\n",
    "\n",
    "\\begin{equation}\t\n",
    "\tA = \n",
    "\t\\begin{bmatrix}\n",
    "\t\ta_{11} &a_{12}   & \\ldots &  a_{1n} \\\\\n",
    "\t\ta_{21} &a_{22}   & \\ldots &  a_{2n} \\\\\n",
    "        \\vdots &\\vdots   & \\ddots &  \\vdots \\\\\n",
    "        a_{m1} &a_{m2}   & \\ldots &  a_{mn}   \\\\ \\nonumber \n",
    "        \\end{bmatrix}\n",
    "    \\end{equation}\n",
    "\n",
    "Sendo $i$ o índice das linhas e $j$ o índice das colunas. A diagonal da matriz $A$ são inteiros $a_{ij}$ em que $i=j$\n"
   ]
  },
  {
   "cell_type": "markdown",
   "metadata": {},
   "source": [
    "Agora vamos identificar os valores numéricos armazenados nas célunas de uma Matriz mostrada abaixo.\n",
    "\n",
    "\\begin{equation}\n",
    "    \\begin{bmatrix}\n",
    "    -3 & 2 & 4 \\\\\n",
    "    5 & 6 & 3 \\\\\n",
    "    \\end{bmatrix}\n",
    "\\end{equation}\n",
    "\n",
    "É representado pela lista: [[2, -3, 4], [0, 7, 5]]\n",
    "#### Vamos analisar a Matriz abaixo:"
   ]
  },
  {
   "cell_type": "markdown",
   "metadata": {},
   "source": [
    "# A matriz é escrita como:\n"
   ]
  },
  {
   "cell_type": "code",
   "execution_count": 2,
   "metadata": {},
   "outputs": [],
   "source": [
    "Matriz= [[-3, 2, 4],\n",
    "         [5, 6, 3]]"
   ]
  },
  {
   "cell_type": "code",
   "execution_count": 3,
   "metadata": {},
   "outputs": [
    {
     "name": "stdout",
     "output_type": "stream",
     "text": [
      "Mat00 = -3, Mat01 = 2, Mat02 = 4\n"
     ]
    }
   ],
   "source": [
    "# Vamos identificar a primeira linha.\n",
    "Mat00 = Matriz[0][0]\n",
    "Mat01 = Matriz[0][1]\n",
    "Mat02 = Matriz[0][2]\n",
    "\n",
    "#print(f\"Mat00 = {Mat00}, Mat01 = {Mat01}, Mat02 = {Mat02}\")\n",
    "print('Mat00 = {}, Mat01 = {}, Mat02 = {}'.format(Mat00, Mat01, Mat02))"
   ]
  },
  {
   "cell_type": "code",
   "execution_count": 4,
   "metadata": {},
   "outputs": [
    {
     "name": "stdout",
     "output_type": "stream",
     "text": [
      "Mat10 = 5, Mat11 = 6, Mat12 = 3\n"
     ]
    }
   ],
   "source": [
    "# Vamos identificar a segunda linha.\n",
    "Mat10 = Matriz[1][0]\n",
    "Mat11 = Matriz[1][1]\n",
    "Mat12 = Matriz[1][2]\n",
    "\n",
    "print('Mat10 = {}, Mat11 = {}, Mat12 = {}'.format(Mat10, Mat11, Mat12))\n"
   ]
  },
  {
   "cell_type": "markdown",
   "metadata": {},
   "source": [
    "#### 1 - Soma de matrizes e resolução computacional\n",
    "\n",
    "Seja a matriz $A$ e $B$ dada por:\n",
    "\n",
    "\n",
    "\\begin{equation}\t\n",
    "A = \n",
    "\t\\begin{bmatrix}\n",
    "\t\ta_{11} & a_{12}   & \\ldots &  a_{1n} \\\\\n",
    "\t\ta_{21} & a_{22}   & \\ldots &  a_{2n} \\\\\n",
    "        \\vdots & \\vdots   & \\ddots &  \\vdots \\\\\n",
    "        a_{m1} & a_{m2}   & \\ldots &  a_{mn}   \\\\ \\nonumber \n",
    "        \\end{bmatrix}\n",
    "    \\\n",
    "    \\\n",
    "  \tB = \n",
    "\t\\begin{bmatrix}\n",
    "\t\tb_{11} & a_{12}  & \\ldots &  b_{1n} \\\\\n",
    "\t\tb_{21} &a_{22}   & \\ldots &  b_{2n} \\\\\n",
    "        \\vdots &\\vdots   & \\ddots &  \\vdots \\\\\n",
    "        b_{m1} &a_{m2}   & \\ldots &  b_{mn}   \\\\ \\nonumber \n",
    "        \\end{bmatrix}\n",
    "\\end{equation}\n",
    "A soma de duas matrizes é dada por:\n",
    "\n",
    "\\begin{equation}\t\n",
    "C = \n",
    "\t\\begin{bmatrix}\n",
    "\t\ta_{11} + b_{11}  &  a_{12} + a_{12}   & \\ldots &  a_{1n} + b_{1n}  \\\\\n",
    "\t\ta_{21} + b_{21}  &  a_{22} + a_{22}   & \\ldots &  a_{2n} + b_{2n}  \\\\\n",
    "                 \\vdots  &           \\vdots   & \\ddots &         \\vdots    \\\\\n",
    "        a_{m1} + b_{m1}  &  a_{m2} + a_{m2}   & \\ldots &  a_{mn} + b_{mn}  \\\\ \\nonumber \n",
    "        \\end{bmatrix}\n",
    "\\end{equation}\n"
   ]
  },
  {
   "cell_type": "markdown",
   "metadata": {},
   "source": [
    "#### **Exercício**\n",
    "\n",
    "calcule a matriz $C$  sabendo-se que é a soma da Matriz  $A$ e $B$.\n",
    "\n",
    "\\begin{equation}\t\n",
    "\tA = \n",
    "\t\\begin{bmatrix}\n",
    "\t\t1 & 2 & 3 \\\\\n",
    "       \t4 & 5 & 6  \\nonumber \\\\ \n",
    "        \\end{bmatrix}\n",
    "        \\\n",
    "        B = \n",
    "\t\\begin{bmatrix}\n",
    "\t\t2 & 1 & 4 \\\\\n",
    "       \t1 & 1 & 2  \\nonumber \\\\ \n",
    "        \\end{bmatrix}\n",
    "    \\end{equation}\n",
    "    \n",
    "**Resposta:**\n",
    "\\begin{equation}\t\n",
    "\tC = A+B =\n",
    "\t\\begin{bmatrix}\n",
    "\t\t3 & 3 & 7 \\\\\n",
    "       \t5 & 6 & 8  \\nonumber \\\\ \n",
    "        \\end{bmatrix}\n",
    "\\end{equation}\n"
   ]
  },
  {
   "cell_type": "code",
   "execution_count": 6,
   "metadata": {},
   "outputs": [
    {
     "name": "stdout",
     "output_type": "stream",
     "text": [
      "A matriz C = [[3, 3, 7], [5, 6, 8]]\n"
     ]
    }
   ],
   "source": [
    "#matriz A \n",
    "a11, a12, a13 = 1, 2, 3\n",
    "a21, a22, a23 = 4, 5, 6\n",
    "#matriz B\n",
    "b11, b12, b13 = 2, 1, 4\n",
    "b21, b22, b23 = 1, 1, 2\n",
    "\n",
    "#Soma das matrizes A+B\n",
    "c = [[a11+b11, a12+b12, a13+b13], [a21+b21, a22+b22, a23+b23]]\n",
    "print('A matriz C = {}'.format(c))"
   ]
  },
  {
   "cell_type": "markdown",
   "metadata": {},
   "source": [
    "#### 1.1 - Vamos fazer a soma das matrizes usando a biblioteca Numpy.\n"
   ]
  },
  {
   "cell_type": "code",
   "execution_count": 7,
   "metadata": {},
   "outputs": [
    {
     "data": {
      "text/plain": [
       "array([[3, 3, 7],\n",
       "       [5, 6, 8]])"
      ]
     },
     "execution_count": 7,
     "metadata": {},
     "output_type": "execute_result"
    }
   ],
   "source": [
    "# Soma de matrizes usando a biblioteca Numpy.\n",
    "import numpy as np\n",
    "\n",
    "# Matriz A.\n",
    "A1 = np.array([[1, 2, 3],\n",
    "               [4, 5, 6]])\n",
    "\n",
    "# Matriz B.\n",
    "B1 = np.array([[2, 1, 4],\n",
    "               [1, 1, 2]])\n",
    "\n",
    "C1 = A1+B1\n",
    "C1\n"
   ]
  },
  {
   "cell_type": "code",
   "execution_count": 8,
   "metadata": {},
   "outputs": [
    {
     "data": {
      "text/plain": [
       "array([[3, 3, 7],\n",
       "       [5, 6, 8]])"
      ]
     },
     "execution_count": 8,
     "metadata": {},
     "output_type": "execute_result"
    }
   ],
   "source": [
    "# ou podemos resolver usando add de adição.\n",
    "\n",
    "C2 = np.add(A1, B1)\n",
    "C2\n"
   ]
  },
  {
   "cell_type": "markdown",
   "metadata": {},
   "source": [
    "#### 2 - Subtração de matrizes e resolução computacional\n",
    "\n",
    "A diferença de duas matrizes $A-B$ de ordem $(mxn)$ é uma matriz $C$ tal que:\n",
    "\n",
    "$$ c_{ij} = a_{ij} - b_{ij}$$\n"
   ]
  },
  {
   "cell_type": "markdown",
   "metadata": {},
   "source": [
    "Seja a matriz $A$ e $B$ dada por:\n",
    "\n",
    "\\begin{equation}\t\n",
    "A = \n",
    "\t\\begin{bmatrix}\n",
    "\t\ta_{11} & a_{12}   & \\ldots &  a_{1n} \\\\\n",
    "\t\ta_{21} & a_{22}   & \\ldots &  a_{2n} \\\\\n",
    "        \\vdots & \\vdots   & \\ddots &  \\vdots \\\\\n",
    "        a_{m1} & a_{m2}   & \\ldots &  a_{mn}   \\\\ \\nonumber \n",
    "        \\end{bmatrix}\n",
    "    \\\n",
    "    \\\n",
    "  \tB = \n",
    "\t\\begin{bmatrix}\n",
    "\t\tb_{11} &  b_{12}  & \\ldots &   b_{1n} \\\\\n",
    "\t\tb_{21} &  b_{22}   & \\ldots &  b_{2n} \\\\\n",
    "        \\vdots &  \\vdots   & \\ddots &  \\vdots \\\\\n",
    "        b_{m1} &  b_{m2}   & \\ldots &  b_{mn}   \\\\ \\nonumber \n",
    "        \\end{bmatrix}\n",
    "\\end{equation}\n"
   ]
  },
  {
   "cell_type": "markdown",
   "metadata": {},
   "source": [
    "A subtração de duas matrizes é dada por:\n",
    "\n",
    "\\begin{equation}\t\n",
    "C = \n",
    "\t\\begin{bmatrix}\n",
    "\t\ta_{11} - b_{11}  &  a_{12} - b_{12}   & \\ldots &  a_{1n} - b_{1n}  \\\\\n",
    "\t\ta_{21} - b_{21}  &  a_{22} - b_{22}   & \\ldots &  a_{2n} - b_{2n}  \\\\\n",
    "                 \\vdots  &           \\vdots   & \\ddots &         \\vdots    \\\\\n",
    "        a_{m1} - b_{m1}  &  a_{m2} - b_{m2}   & \\ldots &  a_{mn} - b_{mn}  \\\\ \\nonumber \n",
    "        \\end{bmatrix}\n",
    "\\end{equation}\n",
    "\n"
   ]
  },
  {
   "cell_type": "markdown",
   "metadata": {},
   "source": [
    "#### **Exercício**\n",
    "\n",
    "Calcule a matriz $C$  sabendo-se que é a subtração da Matriz  $A$ e $B$.\n",
    "\n",
    "\\begin{equation}\t\n",
    "\tA = \n",
    "\t\\begin{bmatrix}\n",
    "\t\t2 & 3 & 1 \\\\\n",
    "       \t3 & 4 & 5  \\nonumber \\\\ \n",
    "        \\end{bmatrix}\n",
    "        \\\n",
    "        B = \n",
    "\t\\begin{bmatrix}\n",
    "\t\t3 & 2 & 1 \\\\\n",
    "       \t2 & 1 & 3  \\nonumber \\\\ \n",
    "        \\end{bmatrix}\n",
    "    \\end{equation}\n",
    "    \n",
    "**Resposta:**\n",
    "\\begin{equation}\t\n",
    "\tC = A-B =\n",
    "\t\\begin{bmatrix}\n",
    "\t\t-1 & 1 & 0 \\\\\n",
    "       \t1 & 3 & 2  \\nonumber \\\\ \n",
    "        \\end{bmatrix}\n",
    "\\end{equation}\n"
   ]
  },
  {
   "cell_type": "code",
   "execution_count": 10,
   "metadata": {},
   "outputs": [
    {
     "data": {
      "text/plain": [
       "array([[-1,  1,  0],\n",
       "       [ 1,  3,  2]])"
      ]
     },
     "execution_count": 10,
     "metadata": {},
     "output_type": "execute_result"
    }
   ],
   "source": [
    "A2 = np.array([[2,3,1],[3,4,5]])\n",
    "B2 = np.array([[3,2,1],[2,1,3]])\n",
    "\n",
    "C3 = np.subtract(A2, B2)\n",
    "C3"
   ]
  },
  {
   "cell_type": "markdown",
   "metadata": {},
   "source": [
    "#### 3 - Multiplicação de matrizes e resolução computacional\n",
    "\n",
    "\n",
    "A multiplicação de duas matrizes são dadas por:\n",
    "\n",
    "$$ C_{i,j} = \\sum_k A_{i,k}B_{k,j} $$\n",
    "\n",
    "Seja a matriz $A$ e  $B$:\n",
    "\n",
    "\\begin{equation}\t\n",
    "\tA = \n",
    "\t\\begin{bmatrix}\n",
    "\t\ta_{11} &  a_{12}  \\\\\n",
    "\t\ta_{21} &  a_{22} \\\\\n",
    "        a_{31} &  a_{32}\\nonumber \\\\ \n",
    "        \\end{bmatrix}_{(3x2)}\n",
    "    \\\n",
    "    \\\n",
    "    B = \n",
    "\t\\begin{bmatrix}\n",
    "\t\tb_{11} &  b_{12} \\\\\n",
    "\t\tb_{21} &  b_{22}  \\nonumber \\\\ \n",
    "\t\\end{bmatrix}_{(2x2)}\n",
    "\\end{equation}\n",
    "\n",
    "Podemos fazer a multiplicação das matrizes por:\n",
    "\n",
    "\\begin{equation}\n",
    "C = A.B = \n",
    "\\begin{bmatrix}\n",
    "a_{11}.b_{11} + a_{12}.b_{21}  &  a_{11}.b_{12} + a_{12}.b_{22} \\\\\n",
    "a_{21}.b_{11} + a_{22}.b_{21}  &  a_{21}.b_{12} + a_{22}.b_{22} \\\\\n",
    "a_{31}.b_{11} + a_{32}.b_{21}  &  a_{31}.b_{12} + a_{32}.b_{22}  \\nonumber \\\\ \n",
    "\\end{bmatrix}\n",
    "=\n",
    "\\begin{bmatrix}\n",
    "\t\tc_{11} &  c_{12} \\\\\n",
    "        c_{21} &  c_{22} \\\\\n",
    "\t\tc_{31} &  c_{32}  \\nonumber \\\\ \n",
    "\t\\end{bmatrix}\n",
    "\\end{equation}\n"
   ]
  },
  {
   "cell_type": "markdown",
   "metadata": {},
   "source": [
    "**Exercício :** Cálcule a multiplicação das matrizes abaixo usando método algébrico e compare com o resultado usando a biblioteca Numpy.\n",
    "\n",
    "\n",
    "\\begin{equation}\t\n",
    "\tA = \n",
    "\t\\begin{bmatrix}\n",
    "\t\t1 &  2  \\\\\n",
    "\t\t3 &  4 \\\\\n",
    "        5 &  6  \\nonumber \\\\ \n",
    "        \\end{bmatrix}_{(3x2)}\n",
    "    \\\n",
    "    \\\n",
    "    \\\n",
    "    B = \n",
    "\t\\begin{bmatrix}\n",
    "\t\t1 &  3 \\\\\n",
    "\t\t2 &  4  \\nonumber \\\\ \n",
    "\t\\end{bmatrix}_{(2x2)}\n",
    "\\end{equation}\n",
    "\n",
    "\n",
    "**Resultado:**\n",
    "\n",
    "\\begin{equation}\t\n",
    "\tC= A.B = \n",
    "\t\\begin{bmatrix}\n",
    "\t\t5 & 11  \\\\\n",
    "\t\t11 & 25  \\\\\n",
    "        17 & 39 \\nonumber \\\\ \n",
    "        \\end{bmatrix}\n",
    "    \\end{equation}\n"
   ]
  },
  {
   "cell_type": "code",
   "execution_count": 12,
   "metadata": {},
   "outputs": [
    {
     "data": {
      "text/plain": [
       "[[5, 11], [11, 25], [17, 39]]"
      ]
     },
     "execution_count": 12,
     "metadata": {},
     "output_type": "execute_result"
    }
   ],
   "source": [
    "#método algébrico \n",
    "a11, a12 = 1,2\n",
    "a21, a22 = 3,4\n",
    "a31, a32 = 5,6\n",
    "\n",
    "b11, b12 = 1,3\n",
    "b21, b22 = 2,4\n",
    "\n",
    "#Multiplicacao de matrizes A*B\n",
    "c11 = a11*b11 + a12*b21\n",
    "c12 = a11*b12 + a12*b22\n",
    "c21 = a21*b11 + a22*b21\n",
    "c22 = a21*b12 + a22*b22\n",
    "c31 = a31*b11 + a32*b21 \n",
    "c32 = a31*b12 + a32*b22\n",
    "\n",
    "C = [[c11, c12], [c21, c22], [c31, c32]]\n",
    "C"
   ]
  },
  {
   "cell_type": "code",
   "execution_count": 19,
   "metadata": {},
   "outputs": [
    {
     "data": {
      "text/plain": [
       "array([[ 5, 11],\n",
       "       [11, 25],\n",
       "       [17, 39]])"
      ]
     },
     "execution_count": 19,
     "metadata": {},
     "output_type": "execute_result"
    }
   ],
   "source": [
    "A3 = np.array([[1, 2],[3, 4],[5, 6]]) \n",
    "B3 = np.array([[1, 3],[2, 4]])\n",
    "\n",
    "C4 = np.dot(A3, B3)\n",
    "C4"
   ]
  }
 ],
 "metadata": {
  "kernelspec": {
   "display_name": "base",
   "language": "python",
   "name": "python3"
  },
  "language_info": {
   "codemirror_mode": {
    "name": "ipython",
    "version": 3
   },
   "file_extension": ".py",
   "mimetype": "text/x-python",
   "name": "python",
   "nbconvert_exporter": "python",
   "pygments_lexer": "ipython3",
   "version": "3.11.7"
  }
 },
 "nbformat": 4,
 "nbformat_minor": 2
}

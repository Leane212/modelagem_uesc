{
 "cells": [
  {
   "cell_type": "code",
   "execution_count": 2,
   "metadata": {},
   "outputs": [],
   "source": [
    "import numpy as np\n",
    "\n",
    "#Definindo a matriz \n",
    "\n",
    "a11, a12 = 157.6, 1.6\n",
    "a21, a22 = 5.7, 107.3\n",
    "\n",
    "A = np.array([[a11, a12], \n",
    "              [a21, a22]])\n",
    "\n",
    "b1, b2 = 163.3, 108.9\n",
    "\n",
    "b = np.array([b1, b2])"
   ]
  },
  {
   "cell_type": "code",
   "execution_count": 3,
   "metadata": {},
   "outputs": [
    {
     "data": {
      "text/plain": [
       "16901.36"
      ]
     },
     "execution_count": 3,
     "metadata": {},
     "output_type": "execute_result"
    }
   ],
   "source": [
    "#Aplicando método de cramer\n",
    "\n",
    "det_A = (a11*a22) - (a12*a21) \n",
    "det_A"
   ]
  },
  {
   "cell_type": "code",
   "execution_count": 4,
   "metadata": {},
   "outputs": [
    {
     "name": "stdout",
     "output_type": "stream",
     "text": [
      "Dx: 17347.85\n",
      "Dy: 16231.83\n"
     ]
    }
   ],
   "source": [
    "Dx = (b1*a22) - (b2*a12)\n",
    "Dy = (a11*b2) - (a21*b1)    \n",
    "\n",
    "print(f'Dx: {Dx}')\n",
    "print(f'Dy: {Dy}')"
   ]
  },
  {
   "cell_type": "code",
   "execution_count": 5,
   "metadata": {},
   "outputs": [
    {
     "name": "stdout",
     "output_type": "stream",
     "text": [
      "x: 1.026417400729882\n",
      "y: 0.9603860281066139\n"
     ]
    }
   ],
   "source": [
    "#Fazendo a divisão \n",
    "\n",
    "x = Dx/det_A\n",
    "y = Dy/det_A\n",
    "\n",
    "print(f'x: {x}')\n",
    "print(f'y: {y}')\n"
   ]
  },
  {
   "cell_type": "code",
   "execution_count": 6,
   "metadata": {},
   "outputs": [],
   "source": [
    "#Conferindo os resultados pela biblioteca \n",
    "\n",
    "inv_A = np.linalg.inv(A)"
   ]
  },
  {
   "cell_type": "code",
   "execution_count": 7,
   "metadata": {},
   "outputs": [
    {
     "name": "stdout",
     "output_type": "stream",
     "text": [
      "Valor de x = 1.026\n",
      "Valor de y = 0.960\n"
     ]
    }
   ],
   "source": [
    "x = np.dot(inv_A, b)\n",
    "np.set_printoptions(precision=3, suppress=True)\n",
    "\n",
    "print('Valor de x = {:.3f}'.format(x[0]))\n",
    "print('Valor de y = {:.3f}'.format(x[1]))"
   ]
  },
  {
   "cell_type": "code",
   "execution_count": 13,
   "metadata": {},
   "outputs": [
    {
     "name": "stdout",
     "output_type": "stream",
     "text": [
      "163.3\n"
     ]
    }
   ],
   "source": [
    "#Conferindo os resultados \n",
    "\n",
    "x = 1.026417400729882\n",
    "y = 0.9603860281066139\n",
    "\n",
    "f = (a11*x) + (a12*y)\n",
    "print(f)"
   ]
  },
  {
   "cell_type": "code",
   "execution_count": 15,
   "metadata": {},
   "outputs": [
    {
     "data": {
      "text/plain": [
       "108.89999999999999"
      ]
     },
     "execution_count": 15,
     "metadata": {},
     "output_type": "execute_result"
    }
   ],
   "source": [
    "f2 = (a21*x) +(a22*y)\n",
    "f2"
   ]
  }
 ],
 "metadata": {
  "kernelspec": {
   "display_name": "modelagem",
   "language": "python",
   "name": "python3"
  },
  "language_info": {
   "codemirror_mode": {
    "name": "ipython",
    "version": 3
   },
   "file_extension": ".py",
   "mimetype": "text/x-python",
   "name": "python",
   "nbconvert_exporter": "python",
   "pygments_lexer": "ipython3",
   "version": "3.11.9"
  }
 },
 "nbformat": 4,
 "nbformat_minor": 2
}

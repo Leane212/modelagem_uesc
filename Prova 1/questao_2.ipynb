{
 "cells": [
  {
   "cell_type": "code",
   "execution_count": 4,
   "metadata": {},
   "outputs": [
    {
     "data": {
      "text/plain": [
       "array([[0.07, 0.18, 0.15, 0.24],\n",
       "       [0.04, 0.24, 0.1 , 0.65],\n",
       "       [0.54, 0.42, 0.54, 0.1 ],\n",
       "       [0.35, 0.16, 0.21, 0.01]])"
      ]
     },
     "execution_count": 4,
     "metadata": {},
     "output_type": "execute_result"
    }
   ],
   "source": [
    "import numpy as np\n",
    "\n",
    "#Questao 2\n",
    "\n",
    "# DECLARANDO OS VALORES DA MATRIZ 4x4\n",
    "a11, a12, a13, a14 = 0.07, 0.18, 0.15, 0.24\n",
    "a21, a22, a23, a24 = 0.04, 0.24, 0.10, 0.65\n",
    "a31, a32, a33, a34 = 0.54, 0.42, 0.54, 0.10\n",
    "a41, a42, a43, a44 = 0.35, 0.16, 0.21, 0.010\n",
    "\n",
    "a = np.array([[a11, a12, a13, a14],\n",
    "              [a21, a22, a23, a24],\n",
    "              [a31, a32, a33, a34],\n",
    "              [a41, a42, a43, a44]])\n",
    "a\n",
    "\n"
   ]
  },
  {
   "cell_type": "code",
   "execution_count": 5,
   "metadata": {},
   "outputs": [],
   "source": [
    "b1, b2, b3, b4 = 10.5, 17.5, 28, 14\n",
    "\n",
    "s = np.array([b1, b2, b3, b4])"
   ]
  },
  {
   "cell_type": "code",
   "execution_count": 6,
   "metadata": {},
   "outputs": [
    {
     "data": {
      "text/plain": [
       "array([[ -2.81048387,   1.22177419,  -1.80241935,   6.06048387],\n",
       "       [ 94.36290323, -29.83064516, -36.68548387,  41.13709677],\n",
       "       [-66.04435484,  20.24596774,  30.52822581, -36.20564516],\n",
       "       [-24.50806452,   9.36290323,   8.95967742,  -9.99193548]])"
      ]
     },
     "execution_count": 6,
     "metadata": {},
     "output_type": "execute_result"
    }
   ],
   "source": [
    "#calculando a inversa da matriz A\n",
    "\n",
    "A_inv = np.linalg.inv(a)\n",
    "A_inv"
   ]
  },
  {
   "cell_type": "code",
   "execution_count": 7,
   "metadata": {},
   "outputs": [
    {
     "name": "stdout",
     "output_type": "stream",
     "text": [
      "A solução do sistema é: [26.25 17.5   8.75 17.5 ]\n"
     ]
    }
   ],
   "source": [
    "X = np.dot(A_inv, s)\n",
    "\n",
    "print(\"A solução do sistema é:\", X)"
   ]
  },
  {
   "cell_type": "code",
   "execution_count": 10,
   "metadata": {},
   "outputs": [
    {
     "name": "stdout",
     "output_type": "stream",
     "text": [
      "Valor de D = 43.750\n",
      "Valor de B = 26.250\n"
     ]
    }
   ],
   "source": [
    "#Para valor de D e B \n",
    "\n",
    "print('Valor de D = {:.3f}'.format(X[0] + X[1]) )\n",
    "print('Valor de B = {:.3f}'.format(X[2] + X[3]))"
   ]
  },
  {
   "cell_type": "code",
   "execution_count": 13,
   "metadata": {},
   "outputs": [
    {
     "name": "stdout",
     "output_type": "stream",
     "text": [
      "XDx = 0.1140\n",
      "XDs = 0.1200\n",
      "XDt = 0.4920\n",
      "XDb = 0.2740\n"
     ]
    }
   ],
   "source": [
    "D = 43.75\n",
    "\n",
    "XDx = (a11*X[0]+a12*X[1])/D\n",
    "print('XDx = {:.4f}'.format(XDx))\n",
    "\n",
    "XDs = (a21*X[0]+a22*X[1])/D\n",
    "print('XDs = {:.4f}'.format(XDs))\n",
    "\n",
    "XDt = (a31*X[0]+a32*X[1])/D\n",
    "print('XDt = {:.4f}'.format(XDt))\n",
    "\n",
    "XDb = (a41*X[0]+a42*X[1])/D\n",
    "print('XDb = {:.4f}'.format(XDb))"
   ]
  },
  {
   "cell_type": "code",
   "execution_count": 14,
   "metadata": {},
   "outputs": [
    {
     "name": "stdout",
     "output_type": "stream",
     "text": [
      "XBx = 0.2100\n",
      "XBs = 0.4667\n",
      "XBt = 0.2467\n",
      "XBb = 0.0767\n"
     ]
    }
   ],
   "source": [
    "B = 26.25\n",
    "\n",
    "XBx = (a13*X[2]+a14*X[3])/B\n",
    "print('XBx = {:.4f}'.format(XBx))\n",
    "\n",
    "XBs = (a23*X[2]+a24*X[3])/B\n",
    "print('XBs = {:.4f}'.format(XBs))\n",
    "\n",
    "XBt = (a33*X[2]+a34*X[3])/B\n",
    "print('XBt = {:.4f}'.format(XBt))\n",
    "\n",
    "XBb = (a43*X[2]+a44*X[3])/B\n",
    "print('XBb = {:.4f}'.format(XBb))"
   ]
  }
 ],
 "metadata": {
  "kernelspec": {
   "display_name": "modelagem",
   "language": "python",
   "name": "python3"
  },
  "language_info": {
   "codemirror_mode": {
    "name": "ipython",
    "version": 3
   },
   "file_extension": ".py",
   "mimetype": "text/x-python",
   "name": "python",
   "nbconvert_exporter": "python",
   "pygments_lexer": "ipython3",
   "version": "3.11.9"
  }
 },
 "nbformat": 4,
 "nbformat_minor": 2
}

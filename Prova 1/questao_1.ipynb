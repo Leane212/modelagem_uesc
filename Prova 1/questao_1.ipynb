{
 "cells": [
  {
   "cell_type": "code",
   "execution_count": 4,
   "metadata": {},
   "outputs": [],
   "source": [
    "import numpy as np\n",
    "\n",
    "#Questao 1 \n",
    "\n",
    "# DECLARANDO OS VALORES DA MATRIZ 4x4\n",
    "a11, a12, a13, a14 = 0.8, 0, 0, 0\n",
    "a21, a22, a23, a24 = 0, 0.5, 0, 0\n",
    "a31, a32, a33, a34 = 0, 0, 0.2, 0\n",
    "a41, a42, a43, a44 = 0, 0, 0, 0.1\n",
    "\n",
    "A = np.array([[a11, a12, a13, a14],\n",
    "              [a21, a22, a23, a24],\n",
    "              [a31, a32, a33, a34],\n",
    "              [a41, a42, a43, a44]])\n",
    "A\n",
    "\n",
    "b1, b2, b3, b4 = 20, 30, 40, 10\n",
    "\n",
    "s = np.array([b1, b2, b3, b4])\n"
   ]
  },
  {
   "cell_type": "code",
   "execution_count": 5,
   "metadata": {},
   "outputs": [
    {
     "data": {
      "text/plain": [
       "array([[ 1.25,  0.  ,  0.  ,  0.  ],\n",
       "       [ 0.  ,  2.  ,  0.  ,  0.  ],\n",
       "       [ 0.  ,  0.  ,  5.  ,  0.  ],\n",
       "       [ 0.  ,  0.  ,  0.  , 10.  ]])"
      ]
     },
     "execution_count": 5,
     "metadata": {},
     "output_type": "execute_result"
    }
   ],
   "source": [
    "#Fazendo a matriz inversa \n",
    "\n",
    "A_inv = np.linalg.inv(A)\n",
    "A_inv"
   ]
  },
  {
   "cell_type": "code",
   "execution_count": 6,
   "metadata": {},
   "outputs": [
    {
     "name": "stdout",
     "output_type": "stream",
     "text": [
      "A solução do sistema é: [ 25.  60. 200. 100.]\n"
     ]
    }
   ],
   "source": [
    "# \n",
    "X = np.dot(A_inv, s)\n",
    "\n",
    "print(\"A solução do sistema é:\", X)"
   ]
  }
 ],
 "metadata": {
  "kernelspec": {
   "display_name": "modelagem",
   "language": "python",
   "name": "python3"
  },
  "language_info": {
   "codemirror_mode": {
    "name": "ipython",
    "version": 3
   },
   "file_extension": ".py",
   "mimetype": "text/x-python",
   "name": "python",
   "nbconvert_exporter": "python",
   "pygments_lexer": "ipython3",
   "version": "3.11.9"
  }
 },
 "nbformat": 4,
 "nbformat_minor": 2
}

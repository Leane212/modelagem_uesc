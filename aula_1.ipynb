{
  "nbformat": 4,
  "nbformat_minor": 0,
  "metadata": {
    "colab": {
      "provenance": []
    },
    "kernelspec": {
      "name": "python3",
      "display_name": "Python 3"
    },
    "language_info": {
      "name": "python"
    }
  },
  "cells": [
    {
      "cell_type": "markdown",
      "source": [
        "## <center>UNIVERSIDADE ESTADUAL DE SANTA CRUZ - UESC<center> <center>DEPARTAMENTO DE ENGENHARIAS E COMPUTAÇÃO - DEC </center>\n",
        "#### <center>CURSO DE ENGENHARIA QUÍMICA</center>\n",
        "\n",
        "**CET 1012** Modelagem, Simulação e Otimização de Processos Químicos.\n",
        "\n",
        "**Professor**: Prof. Dr E.R.Edwards\n",
        "\n",
        "**Tema:** Métodos Matriciais em Cálculos de Engenharia.\n",
        "\n",
        "**Assunto**Manipulação de matrizes para cálculo de Engenharia.\n",
        "**negrito**"
      ],
      "metadata": {
        "id": "YMMzDr128rZW"
      }
    },
    {
      "cell_type": "markdown",
      "source": [
        "#### Definição de Matriz\n",
        "\n",
        "Matriz é um conjunto de dados divididos por linhas e colunas e possui uma estrutura matemática disposta em tabelas com operações de adição, subtração e multiplicação bem definidas. Existem casos especiais que são classificados de acordo com a característica da matriz. A matriz abaixo mostra a disposição\n",
        "\n",
        "$$ A_{i,j} = [a_{i,j}] $$\n",
        "\n",
        "De tal forma que:\n",
        "\n",
        "\\begin{equation}\n",
        "\tA =\n",
        "\t\\begin{bmatrix}\n",
        "\t\ta_{11} &a_{12}   & \\ldots &  a_{1n} \\\\\n",
        "\t\ta_{21} &a_{22}   & \\ldots &  a_{2n} \\\\\n",
        "        \\vdots &\\vdots   & \\ddots &  \\vdots \\\\\n",
        "        a_{m1} &a_{m2}   & \\ldots &  a_{mn}   \\\\ \\nonumber\n",
        "        \\end{bmatrix}\n",
        "    \\end{equation}\n",
        "\n",
        "Sendo $i$ o índice das linhas e $j$ o índice das colunas. A diagonal da matriz $A$ são inteiros $a_{ij}$ em que $i=j$"
      ],
      "metadata": {
        "id": "R1QVY-bW99_M"
      }
    },
    {
      "cell_type": "markdown",
      "source": [
        "Agora vamos identificar os valores numéricos armazenados nas célunas de uma Matriz mostrada abaixo.\n",
        "\n",
        "\\begin{equation}\n",
        "    \\begin{bmatrix}\n",
        "    -3 & 2 & 4 \\\\\n",
        "    5 & 6 & 3 \\\\\n",
        "    \\end{bmatrix}\n",
        "\\end{equation}\n",
        "\n",
        "É representado pela lista: [[2, -3, 4], [0, 7, 5]]\n",
        "  "
      ],
      "metadata": {
        "id": "XuELmnoK-tb_"
      }
    },
    {
      "cell_type": "markdown",
      "source": [
        "#### Vamos analisar a Matriz abaixo:\n"
      ],
      "metadata": {
        "id": "MqwlInZ-Ad4B"
      }
    },
    {
      "cell_type": "code",
      "source": [
        "# A matriz é escrita como:\n",
        "Matriz= [[-3, 2, 4],\n",
        "         [5, 6, 3]]\n"
      ],
      "metadata": {
        "id": "nduerRbOAfz_"
      },
      "execution_count": null,
      "outputs": []
    },
    {
      "cell_type": "code",
      "source": [
        "\n",
        "# Vamos identificar a primeira linha.\n",
        "Mat00 = Matriz[0][0]\n",
        "Mat01 = Matriz[0][1]\n",
        "Mat02 = Matriz[0][2]\n",
        "\n",
        "#print(f\"Mat00 = {Mat00}, Mat01 = {Mat01}, Mat02 = {Mat02}\")\n",
        "print('Mat00 = {}, Mat01 = {}, Mat02 = {}'.format(Mat00, Mat01, Mat02))\n"
      ],
      "metadata": {
        "colab": {
          "base_uri": "https://localhost:8080/"
        },
        "id": "WY11CVOnAsVA",
        "outputId": "cbe82062-1a61-47c6-e8e8-889473941819"
      },
      "execution_count": null,
      "outputs": [
        {
          "output_type": "stream",
          "name": "stdout",
          "text": [
            "Mat00 = -3, Mat01 = 2, Mat02 = 4\n"
          ]
        }
      ]
    },
    {
      "cell_type": "code",
      "source": [
        "# Vamos identificar a segunda linha.\n",
        "Mat10 = Matriz[1][0]\n",
        "Mat11 = Matriz[1][1]\n",
        "Mat12 = Matriz[1][2]\n",
        "\n",
        "print('Mat10 = {}, Mat11 = {}, Mat12 = {}'.format(Mat10, Mat11, Mat12))\n"
      ],
      "metadata": {
        "colab": {
          "base_uri": "https://localhost:8080/"
        },
        "id": "ospGfPhbAywq",
        "outputId": "dea386ec-6fc3-4773-c491-d36751ed34a6"
      },
      "execution_count": null,
      "outputs": [
        {
          "output_type": "stream",
          "name": "stdout",
          "text": [
            "Mat10 = 5, Mat11 = 6, Mat12 = 3\n"
          ]
        }
      ]
    },
    {
      "cell_type": "markdown",
      "source": [
        "#### 1 - Soma de matrizes e resolução computacional\n",
        "\n",
        "Seja a matriz $A$ e $B$ dada por:\n",
        "\n",
        "\n",
        "\\begin{equation}\n",
        "A =\n",
        "\t\\begin{bmatrix}\n",
        "\t\ta_{11} & a_{12}   & \\ldots &  a_{1n} \\\\\n",
        "\t\ta_{21} & a_{22}   & \\ldots &  a_{2n} \\\\\n",
        "        \\vdots & \\vdots   & \\ddots &  \\vdots \\\\\n",
        "        a_{m1} & a_{m2}   & \\ldots &  a_{mn}   \\\\ \\nonumber\n",
        "        \\end{bmatrix}\n",
        "    \\\n",
        "    \\\n",
        "  \tB =\n",
        "\t\\begin{bmatrix}\n",
        "\t\tb_{11} & a_{12}  & \\ldots &  b_{1n} \\\\\n",
        "\t\tb_{21} &a_{22}   & \\ldots &  b_{2n} \\\\\n",
        "        \\vdots &\\vdots   & \\ddots &  \\vdots \\\\\n",
        "        b_{m1} &a_{m2}   & \\ldots &  b_{mn}   \\\\ \\nonumber\n",
        "        \\end{bmatrix}\n",
        "\\end{equation}\n",
        "A soma de duas matrizes é dada por:\n",
        "\n",
        "\\begin{equation}\n",
        "C =\n",
        "\t\\begin{bmatrix}\n",
        "\t\ta_{11} + b_{11}  &  a_{12} + a_{12}   & \\ldots &  a_{1n} + b_{1n}  \\\\\n",
        "\t\ta_{21} + b_{21}  &  a_{22} + a_{22}   & \\ldots &  a_{2n} + b_{2n}  \\\\\n",
        "                 \\vdots  &           \\vdots   & \\ddots &         \\vdots    \\\\\n",
        "        a_{m1} + b_{m1}  &  a_{m2} + a_{m2}   & \\ldots &  a_{mn} + b_{mn}  \\\\ \\nonumber\n",
        "        \\end{bmatrix}\n",
        "\\end{equation}\n",
        "\n"
      ],
      "metadata": {
        "id": "tcvfsIsk_7Ed"
      }
    },
    {
      "cell_type": "markdown",
      "source": [
        "#### **Exercício**\n",
        "\n",
        "calcule a matriz $C$  sabendo-se que é a soma da Matriz  $A$ e $B$.\n",
        "\n",
        "\\begin{equation}\n",
        "\tA =\n",
        "\t\\begin{bmatrix}\n",
        "\t\t1 & 2 & 3 \\\\\n",
        "       \t4 & 5 & 6  \\nonumber \\\\\n",
        "        \\end{bmatrix}\n",
        "        \\\n",
        "        B =\n",
        "\t\\begin{bmatrix}\n",
        "\t\t2 & 1 & 4 \\\\\n",
        "       \t1 & 1 & 2  \\nonumber \\\\\n",
        "        \\end{bmatrix}\n",
        "    \\end{equation}\n",
        "    \n",
        "**Resposta:**\n",
        "\\begin{equation}\n",
        "\tC = A+B =\n",
        "\t\\begin{bmatrix}\n",
        "\t\t3 & 3 & 7 \\\\\n",
        "       \t5 & 6 & 8  \\nonumber \\\\\n",
        "        \\end{bmatrix}\n",
        "\\end{equation}\n"
      ],
      "metadata": {
        "id": "T-uYCT4xAOz8"
      }
    },
    {
      "cell_type": "markdown",
      "source": [
        "\n",
        "\n"
      ],
      "metadata": {
        "id": "oBaIfK1WBb4L"
      }
    },
    {
      "cell_type": "code",
      "source": [
        "# Soma de matrizes pelo método algébrico\n",
        "#matriz A:\n",
        "a11, a12, a13 = 1, 2, 3\n",
        "a21, a22, a23 = 4, 5, 6\n",
        "\n",
        "#matriz B:\n",
        "b11, b12, b13 = 2, 1, 4\n",
        "b21, b22, b23 = 1, 1, 2\n",
        "\n",
        "#Soma de matrizes\n",
        "\n",
        "C = [[a11+b11, a12+b12, a13+b13],\n",
        "     [a21+b21, a22+b22, a23+b23]\n",
        "\n",
        "]\n",
        "print('A matriz c = ', (C))"
      ],
      "metadata": {
        "colab": {
          "base_uri": "https://localhost:8080/"
        },
        "id": "JCJRlX7wBwmJ",
        "outputId": "1d10c8cf-1ecd-4aa5-ec65-e237e900b585"
      },
      "execution_count": null,
      "outputs": [
        {
          "output_type": "stream",
          "name": "stdout",
          "text": [
            "A matriz c =  [[3, 3, 7], [5, 6, 8]]\n"
          ]
        }
      ]
    },
    {
      "cell_type": "markdown",
      "source": [
        "#### 1.1 - Vamos fazer a soma das matrizes usando a biblioteca Numpy."
      ],
      "metadata": {
        "id": "wxkKIhXHFCzY"
      }
    },
    {
      "cell_type": "code",
      "source": [
        "# Soma de matrizes usando a biblioteca Numpy.\n",
        "import numpy as np\n",
        "\n",
        "# Matriz A.\n",
        "A1 = np.array([[1, 2, 3],\n",
        "               [4, 5, 6]])\n",
        "\n",
        "# Matriz B.\n",
        "B1 = np.array([[2, 1, 4],\n",
        "               [1, 1, 2]\n",
        "              ])\n",
        "\n",
        "C1 = A1+B1\n",
        "C1\n"
      ],
      "metadata": {
        "colab": {
          "base_uri": "https://localhost:8080/"
        },
        "id": "ZlXqCV9mFEhB",
        "outputId": "43f2ec8f-a56c-4661-8984-f77af127611d"
      },
      "execution_count": null,
      "outputs": [
        {
          "output_type": "execute_result",
          "data": {
            "text/plain": [
              "array([[3, 3, 7],\n",
              "       [5, 6, 8]])"
            ]
          },
          "metadata": {},
          "execution_count": 6
        }
      ]
    },
    {
      "cell_type": "code",
      "execution_count": null,
      "metadata": {
        "colab": {
          "base_uri": "https://localhost:8080/"
        },
        "id": "TLjYzLIV8l0G",
        "outputId": "53a30202-c0a0-4abc-e055-56f64b76faa6"
      },
      "outputs": [
        {
          "output_type": "execute_result",
          "data": {
            "text/plain": [
              "array([[3, 3, 7],\n",
              "       [5, 6, 8]])"
            ]
          },
          "metadata": {},
          "execution_count": 7
        }
      ],
      "source": [
        "# ou podemos resolver usando add de adição.\n",
        "\n",
        "C2 = np.add(A1, B1)\n",
        "C2\n"
      ]
    },
    {
      "cell_type": "markdown",
      "source": [
        "#### 2 - Subtração de matrizes e resolução computacional\n",
        "\n",
        "A diferença de duas matrizes $A-B$ de ordem $(mxn)$ é uma matriz $C$ tal que:\n",
        "\n",
        "$$ c_{ij} = a_{ij} - b_{ij}$$\n"
      ],
      "metadata": {
        "id": "1W_D1-abF3S1"
      }
    },
    {
      "cell_type": "markdown",
      "source": [
        "#### **Exercício**\n",
        "\n",
        "Calcule a matriz $C$  sabendo-se que é a subtração da Matriz  $A$ e $B$.\n",
        "\n",
        "\\begin{equation}\n",
        "\tA =\n",
        "\t\\begin{bmatrix}\n",
        "\t\t2 & 3 & 1 \\\\\n",
        "       \t3 & 4 & 5  \\nonumber \\\\\n",
        "        \\end{bmatrix}\n",
        "        \\\n",
        "        B =\n",
        "\t\\begin{bmatrix}\n",
        "\t\t3 & 2 & 1 \\\\\n",
        "       \t2 & 1 & 3  \\nonumber \\\\\n",
        "        \\end{bmatrix}\n",
        "    \\end{equation}\n",
        "    \n",
        "**Resposta:**\n",
        "\\begin{equation}\n",
        "\tC = A-B =\n",
        "\t\\begin{bmatrix}\n",
        "\t\t-1 & 1 & 0 \\\\\n",
        "       \t1 & 3 & 2  \\nonumber \\\\\n",
        "        \\end{bmatrix}\n",
        "\\end{equation}\n",
        "\n"
      ],
      "metadata": {
        "id": "4bctv2sfGQ0r"
      }
    },
    {
      "cell_type": "code",
      "source": [
        "#Subtração de matriz\n",
        "# Soma de matrizes pelo método algébrico\n",
        "#matriz A:\n",
        "a11, a12, a13 = 2, 3, 1\n",
        "a21, a22, a23 = 3, 4, 5\n",
        "\n",
        "#matriz B:\n",
        "b11, b12, b13 = 3, 2, 1\n",
        "b21, b22, b23 = 2, 1, 3\n",
        "\n",
        "#Soma de matrizes\n",
        "\n",
        "C = [[a11-b11, a12-b12, a13-b13],\n",
        "     [a21-b21, a22-b22, a23-b23]\n",
        "\n",
        "]\n",
        "print('A matriz c = ', (C))\n"
      ],
      "metadata": {
        "colab": {
          "base_uri": "https://localhost:8080/"
        },
        "id": "OSosN3fqFl44",
        "outputId": "43357536-764e-4fab-9c08-0e08971cc284"
      },
      "execution_count": null,
      "outputs": [
        {
          "output_type": "stream",
          "name": "stdout",
          "text": [
            "A matriz c =  [[-1, 1, 0], [1, 3, 2]]\n"
          ]
        }
      ]
    },
    {
      "cell_type": "code",
      "source": [
        "# Subtração de matrizes usando a biblioteca Numpy.\n",
        "\n",
        "\n",
        "# Matriz A.\n",
        "#np é uma biblioteca e array é uma função da minha biblioteca, obs: Toda função necessita de parênteses\n",
        "A1 = np.array([[2, 3, 1], #O cochete \"[]\" verde indica início e término da minha matriz. O \"[]\" marrom, informa as linhas da minha matriz\n",
        "               [3, 4, 5]])\n",
        "\n",
        "# Matriz B.\n",
        "B1 = np.array([[3, 2, 1],\n",
        "               [2, 1, 3]\n",
        "              ])\n",
        "\n",
        "C1 = A1-B1\n",
        "print('Resultado feito á mão {}'.format(C1))\n",
        "\n",
        "C2= np.subtract(A1, B1)\n",
        "print(C2)"
      ],
      "metadata": {
        "colab": {
          "base_uri": "https://localhost:8080/"
        },
        "id": "i3IlCApQGCwm",
        "outputId": "7be9340b-8f15-4882-cdbe-8f1bc6c5403c"
      },
      "execution_count": null,
      "outputs": [
        {
          "output_type": "stream",
          "name": "stdout",
          "text": [
            "Resultado feito á mão [[-1  1  0]\n",
            " [ 1  3  2]]\n",
            "[[-1  1  0]\n",
            " [ 1  3  2]]\n"
          ]
        }
      ]
    },
    {
      "cell_type": "markdown",
      "source": [
        "#### 3 - Multiplicação de matrizes e resolução computacional\n",
        "\n",
        "\n",
        "A multiplicação de duas matrizes são dadas por:\n",
        "\n",
        "$$ C_{i,j} = \\sum_k A_{i,k}B_{k,j} $$\n",
        "\n",
        "Seja a matriz $A$ e  $B$:\n",
        "\n",
        "\\begin{equation}\n",
        "\tA =\n",
        "\t\\begin{bmatrix}\n",
        "\t\ta_{11} &  a_{12}  \\\\\n",
        "\t\ta_{21} &  a_{22} \\\\\n",
        "        a_{31} &  a_{32}\\nonumber \\\\\n",
        "        \\end{bmatrix}_{(3x2)}\n",
        "    \\\n",
        "    \\\n",
        "    B =\n",
        "\t\\begin{bmatrix}\n",
        "\t\tb_{11} &  b_{12} \\\\\n",
        "\t\tb_{21} &  b_{22}  \\nonumber \\\\\n",
        "\t\\end{bmatrix}_{(2x2)}\n",
        "\\end{equation}\n",
        "\n",
        "Podemos fazer a multiplicação das matrizes por:\n",
        "\n",
        "\\begin{equation}\n",
        "C = A.B =\n",
        "\\begin{bmatrix}\n",
        "a_{11}.b_{11} + a_{12}.b_{21}  &  a_{11}.b_{12} + a_{12}.b_{22} \\\\\n",
        "a_{21}.b_{11} + a_{22}.b_{21}  &  a_{21}.b_{12} + a_{22}.b_{22} \\\\\n",
        "a_{31}.b_{11} + a_{32}.b_{21}  &  a_{31}.b_{12} + a_{32}.b_{22}  \\nonumber \\\\\n",
        "\\end{bmatrix}\n",
        "=\n",
        "\\begin{bmatrix}\n",
        "\t\tc_{11} &  c_{12} \\\\\n",
        "        c_{21} &  c_{22} \\\\\n",
        "\t\tc_{31} &  c_{32}  \\nonumber \\\\\n",
        "\t\\end{bmatrix}\n",
        "\\end{equation}\n",
        "\n"
      ],
      "metadata": {
        "id": "AcfCvmAZJk2o"
      }
    },
    {
      "cell_type": "markdown",
      "source": [
        "\n",
        "**Exercício :** Cálcule a multiplicação das matrizes abaixo usando método algébrico e compare com o resultado usando a biblioteca Numpy.\n",
        "\n",
        "\\begin{equation}\n",
        "\tA =\n",
        "\t\\begin{bmatrix}\n",
        "\t\t1 &  2  \\\\\n",
        "\t\t3 &  4 \\\\\n",
        "        5 &  6  \\nonumber \\\\\n",
        "        \\end{bmatrix}_{(3x2)}\n",
        "    \\\n",
        "    \\\n",
        "    \\\n",
        "    B =\n",
        "\t\\begin{bmatrix}\n",
        "\t\t1 &  3 \\\\\n",
        "\t\t2 &  4  \\nonumber \\\\\n",
        "\t\\end{bmatrix}_{(2x2)}\n",
        "\\end{equation}\n",
        "\n",
        "\n",
        "**Resultado:**\n",
        "\n",
        "\\begin{equation}\n",
        "\tC= A.B =\n",
        "\t\\begin{bmatrix}\n",
        "\t\t5 & 11  \\\\\n",
        "\t\t11 & 25  \\\\\n",
        "        17 & 39 \\nonumber \\\\\n",
        "        \\end{bmatrix}\n",
        "    \\end{equation}\n",
        "\n"
      ],
      "metadata": {
        "id": "2y0WLxZ6J70L"
      }
    },
    {
      "cell_type": "code",
      "source": [
        "# Cálculo usando métodos algébricos;\n",
        "\n",
        "#Matriz A\n",
        "\n",
        "a11, a12 = 1,2\n",
        "a21, a22 = 3,4\n",
        "a31, a32= 5,6\n",
        "\n",
        "#Matriz B\n",
        "\n",
        "b11, b12= 1,3\n",
        "b21, b22= 2,4\n",
        "\n",
        "# Matriz C = A.B\n",
        "c11= a11*b11 + a12*b21\n",
        "c12= a11*b12 + a12*b22\n",
        "c21= a21*b11 + a22*b21\n",
        "c22= a21*b12 + a22*b22\n",
        "c31= a31*b11 + a32*b21\n",
        "c32= a31*b12 + a32*b22\n",
        "\n",
        "C = [[c11, c12],\n",
        "     [c21, c22],\n",
        "     [c31, c32]]\n",
        "\n",
        "print(C)\n",
        "\n",
        "\n"
      ],
      "metadata": {
        "id": "Uj_8uXz2IreW",
        "colab": {
          "base_uri": "https://localhost:8080/"
        },
        "outputId": "cde8d747-b1e7-4b7a-9594-f82bd393f7e0"
      },
      "execution_count": null,
      "outputs": [
        {
          "output_type": "stream",
          "name": "stdout",
          "text": [
            "[[5, 11], [11, 25], [17, 39]]\n"
          ]
        }
      ]
    },
    {
      "cell_type": "code",
      "source": [
        "# Utilizando a biblioteca numpy\n",
        "\n",
        "A3 = np.array([[1,2],\n",
        "                [3,4],\n",
        "                [5,6]])\n",
        "\n",
        "B3 = np.array ([[1,3],\n",
        "                [2,4]])\n",
        "\n",
        "C5 = np.matmul(A3,B3)\n",
        "\n",
        "C5"
      ],
      "metadata": {
        "id": "pQ30m-3gIOqW",
        "colab": {
          "base_uri": "https://localhost:8080/"
        },
        "outputId": "4e80d3d9-1009-4957-825c-76b7fefd3077"
      },
      "execution_count": null,
      "outputs": [
        {
          "output_type": "execute_result",
          "data": {
            "text/plain": [
              "array([[ 5, 11],\n",
              "       [11, 25],\n",
              "       [17, 39]])"
            ]
          },
          "metadata": {},
          "execution_count": 7
        }
      ]
    },
    {
      "cell_type": "markdown",
      "source": [
        "#### Vamos resolver mais um exercício\n",
        "\n",
        "Sabendo-se que a matriz $A$ e $B$ são dadas abaixo, calcule a matriz $C=A.B$.\n",
        "\n",
        "\\begin{equation}\n",
        "\t \tA =\n",
        " \t\\begin{bmatrix}\n",
        "\t\t2 & 3 \\\\\n",
        " \t\t4 & 6 \\\\\n",
        " \t\\end{bmatrix}_{(2x2)}\n",
        " \t\\\n",
        " \t\\\n",
        " \tB =\n",
        "\t\\begin{bmatrix}\n",
        " \t\t1 & 3 & 0 \\\\\n",
        "\t\t2 & 1 & 1 \\\\\n",
        "\t\\end{bmatrix}_{(2x3)}\n",
        "\\end{equation}\n",
        "……………………………..\n",
        "#### Solução:\n",
        "**Solução**:\n",
        " Vamos colocar as matrizes $A$ e $B$ com notações tais que: $A=[a_{i,j}]$ e $B=[b_{i,j}]$.\n",
        "\n",
        "\\begin{equation}\n",
        "\t \t\\begin{bmatrix}\n",
        "\t\t \t\ta_{11} & a_{12} \\\\\n",
        "\t\t \t\ta_{21} & a_{22}\n",
        "\t\t \t\\end{bmatrix}  \n",
        "\t \t.\n",
        "\t \t\\begin{bmatrix}\n",
        "\t\t \t\tb_{11} & b_{12} & b_{13} \\\\\n",
        "\t\t \t\tb_{21} & b_{22} & b_{23}\n",
        "\t\t \t\\end{bmatrix}\n",
        "\t \t=\n",
        "\t \t\\begin{bmatrix}\n",
        "a_{11}.b_{11} + a_{12}.b_{21} & a_{11}.b_{12} + a_{12}.b_{22}  & a_{11}.b_{13} + a_{12}.b_{23} \\\\\n",
        "a_{21}.b_{11} + a_{22}.b_{21} & a_{21}.b_{12} + a_{22} b_{22} & a_{21}.b_{13} + a_{22}.b_{23}\n",
        "\t\t \\end{bmatrix}  \n",
        "\\end{equation}\n"
      ],
      "metadata": {
        "id": "DSeRka9dRvZT"
      }
    },
    {
      "cell_type": "code",
      "source": [
        "#Resolução em forma algébrica\n",
        "\n",
        "#Matriz A\n",
        "\n",
        "a11, a12 = 2,3\n",
        "a21, a22 = 4,6\n",
        "\n",
        "#Matriz B\n",
        "\n",
        "b11, b12, b13 = 1,3,0\n",
        "b21, b22,b23 = 2,1,1\n",
        "\n",
        "#Matriz C\n",
        "\n",
        "c11= a11*b11 + a12*b21\n",
        "c12 = a11*b12 + a12*b22\n",
        "c13 = a11*b13 + a12*b23\n",
        "c21= a21*b11 + a22*b21\n",
        "c22 = a21*b12 + a22*b22\n",
        "c23 = a21*b13 + a22*b23\n",
        "\n",
        "C = [[c11, c12, c13],\n",
        "     [c21, c22, c23]]\n",
        "\n",
        "print(C)\n",
        "\n"
      ],
      "metadata": {
        "colab": {
          "base_uri": "https://localhost:8080/"
        },
        "id": "USckyT4DRYU1",
        "outputId": "10a5fcf9-4b50-4395-eb1a-e0240d33435e"
      },
      "execution_count": null,
      "outputs": [
        {
          "output_type": "stream",
          "name": "stdout",
          "text": [
            "[[8, 9, 3], [16, 18, 6]]\n"
          ]
        }
      ]
    },
    {
      "cell_type": "code",
      "source": [
        "# Resolução por numpy\n",
        "\n",
        "import numpy as np\n",
        "\n",
        "A = np.array([[2,3],\n",
        "              [4,6]])\n",
        "\n",
        "B = np.array([[1,3,0],\n",
        "              [2,1,1]])\n",
        "\n",
        "C= np.matmul(A,B)\n",
        "\n",
        "print(C)\n"
      ],
      "metadata": {
        "colab": {
          "base_uri": "https://localhost:8080/"
        },
        "id": "MteKS0-YP7qD",
        "outputId": "a4e3c260-b56c-49e6-efff-aa362da92b96"
      },
      "execution_count": null,
      "outputs": [
        {
          "output_type": "stream",
          "name": "stdout",
          "text": [
            "[[ 8  9  3]\n",
            " [16 18  6]]\n"
          ]
        }
      ]
    },
    {
      "cell_type": "markdown",
      "source": [
        "#### Exercício: Vamos resolver mais um exercício aumentando o número de colunas da matriz $B$.\n",
        "\n",
        "Seja o conjunto de matrizes abaixo:\n",
        "\n",
        "\\begin{equation}\n",
        "\tA =\n",
        "\t\\begin{bmatrix}\n",
        "\t\ta_{11} &  a_{12}  \\\\\n",
        "\t\ta_{21} &  a_{22} \\\\\n",
        "        a_{31} &  a_{32}\\nonumber \\\\\n",
        "        \\end{bmatrix}_{(3x2)}\n",
        "    \\\n",
        "    \\\n",
        "    B =\n",
        "\t\\begin{bmatrix}\n",
        "\t\tb_{11} &  b_{12} &  b_{13}  \\\\\n",
        "\t\tb_{21} &  b_{22} &  b_{23}  \\nonumber \\\\\n",
        "\t\\end{bmatrix}_{(2x3)}\n",
        "\\end{equation}\n",
        "\n",
        "Como podemos fazer a multiplicação dessas matrizes?\n",
        "\n",
        "\\begin{equation}\n",
        "C = A.B =\n",
        "\\begin{bmatrix}\n",
        "a_{11}.b_{11} + a_{12}.b_{21}  &  a_{11}.b_{12} + a_{12}.b_{22} &  a_{11}.b_{13} + a_{12}.b_{23} \\\\\n",
        "a_{21}.b_{11} + a_{22}.b_{21}  &  a_{21}.b_{12} + a_{22}.b_{22} &  a_{21}.b_{13} + a_{22}.b_{23} \\\\\n",
        "b_{31}.b_{11} + a_{32}.b_{21}  &  a_{31}.b_{12} + a_{32}.b_{22} &  a_{31}.b_{13} + a_{32}.b_{23}   \\nonumber \\\\\n",
        "\\end{bmatrix}\n",
        "\\end{equation}\n"
      ],
      "metadata": {
        "id": "K3ZR1fyKU8Tv"
      }
    },
    {
      "cell_type": "markdown",
      "source": [
        "#### Exercício de aplicação:\n",
        "\n",
        "Vamos resolver de forma computacional a multiplicação das matrizes abaixo:\n",
        "\n",
        "\\begin{equation}\n",
        "\tA =\n",
        "\t\\begin{bmatrix}\n",
        "\t\t1 & 2 \\\\\n",
        "\t\t3 & 4 \\\\\n",
        "        5 & 6\\nonumber \\\\\n",
        "        \\end{bmatrix}_{(3,2)}\n",
        "    \\\n",
        "    \\\n",
        "    B =\n",
        "\t\\begin{bmatrix}\n",
        "\t\t1 &  3 &  5  \\\\\n",
        "\t\t2 &  4 &  6  \\nonumber \\\\\n",
        "\t\\end{bmatrix}_{(2,3)}\n",
        "\\end{equation}\n",
        "\n",
        "**Resposta :**\n",
        "\\begin{equation}\n",
        "\tA =\n",
        "\t\\begin{bmatrix}\n",
        "\t\t5 & 11 & 17 \\\\\n",
        "\t\t11 & 25 & 39 \\\\\n",
        "        17 & 39 & 61 \\nonumber \\\\\n",
        "        \\end{bmatrix}\n",
        "    \\end{equation}\n"
      ],
      "metadata": {
        "id": "GcMHPwgLVXkT"
      }
    },
    {
      "cell_type": "markdown",
      "source": [],
      "metadata": {
        "id": "kPaAAkMEVnjN"
      }
    },
    {
      "cell_type": "code",
      "source": [
        "#Resolução em forma algébrica\n",
        "\n",
        "#Matriz A\n",
        "\n",
        "a11, a12 = 1,2\n",
        "a21, a22 = 3,4\n",
        "a31, a32 = 5,6\n",
        "\n",
        "#Matriz B\n",
        "\n",
        "b11, b12, b13 = 1,3,5\n",
        "b21, b22,b23 = 2,4,6\n",
        "\n",
        "#Matriz C\n",
        "\n",
        "c11= a11*b11 + a12*b21\n",
        "c12 = a11*b12 + a12*b22\n",
        "c13 = a11*b13 + a12*b23\n",
        "c21= a21*b11 + a22*b21\n",
        "c22 = a21*b12 + a22*b22\n",
        "c23 = a21*b13 + a22*b23\n",
        "c31 = a31*b11 + a32*b21\n",
        "c32 = a31*b12 + a32*b22\n",
        "c33 = a31*b13 + a32*b23\n",
        "\n",
        "\n",
        "C = [[c11, c12, c13],\n",
        "     [c21, c22, c23],\n",
        "     [c31,c32,c33]]\n",
        "\n",
        "print(C)\n"
      ],
      "metadata": {
        "colab": {
          "base_uri": "https://localhost:8080/"
        },
        "id": "rxL5RPLSWLt2",
        "outputId": "767f10a6-8232-4707-9716-60cf29901d05"
      },
      "execution_count": null,
      "outputs": [
        {
          "output_type": "stream",
          "name": "stdout",
          "text": [
            "[[5, 11, 17], [11, 25, 39], [17, 39, 61]]\n"
          ]
        }
      ]
    },
    {
      "cell_type": "code",
      "source": [
        "#Resolução pela biblioteca do python\n",
        "\n",
        "A = np.array([[1,2],\n",
        "              [3,4],\n",
        "              [5,6]])\n",
        "\n",
        "B = np.array([[1,3,5],\n",
        "              [2,4,6]])\n",
        "\n",
        "C= np.matmul(A,B)\n",
        "\n",
        "print(C)"
      ],
      "metadata": {
        "colab": {
          "base_uri": "https://localhost:8080/"
        },
        "id": "Fdf7KX3GXcFk",
        "outputId": "d5927262-8e40-47ab-ac30-1a61d3a1a475"
      },
      "execution_count": null,
      "outputs": [
        {
          "output_type": "stream",
          "name": "stdout",
          "text": [
            "[[ 5 11 17]\n",
            " [11 25 39]\n",
            " [17 39 61]]\n"
          ]
        }
      ]
    }
  ]
}
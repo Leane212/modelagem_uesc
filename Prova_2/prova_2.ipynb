{
 "cells": [
  {
   "cell_type": "code",
   "execution_count": 18,
   "metadata": {},
   "outputs": [],
   "source": [
    "import numpy as np\n",
    "\n",
    "#definindo vetor Q:\n",
    "\n",
    "q1, q2, q3, q4, q5, q6 = 0.6, 0.4, 0.1, 0, 0.3, 0.2\n",
    "\n",
    "Q = np.array([q1, q2, q3, q4, q5, q6])\n",
    "\n",
    "# criando os índices de linhas (row):\n",
    "row_ind = np.array([0, 1, 1, 2, 2, 3, 3, 3, 4, 4, 5])\n",
    "\n",
    "# criando os índices da coluna (columns)\n",
    "col_ind = np.array([0, 1, 2, 2, 3, 0, 4, 5, 1, 4, 3])\n",
    "\n",
    "# criando os índices dos dados (data):\n",
    "data = np.array([1, 1, 1, 1, -1, 1, 1, -1, -1, 1, 1], dtype=float)"
   ]
  },
  {
   "cell_type": "code",
   "execution_count": 19,
   "metadata": {},
   "outputs": [
    {
     "name": "stdout",
     "output_type": "stream",
     "text": [
      "<COOrdinate sparse matrix of dtype 'float64'\n",
      "\twith 11 stored elements and shape (6, 6)>\n",
      "  Coords\tValues\n",
      "  (0, 0)\t1.0\n",
      "  (1, 1)\t1.0\n",
      "  (1, 2)\t1.0\n",
      "  (2, 2)\t1.0\n",
      "  (2, 3)\t-1.0\n",
      "  (3, 0)\t1.0\n",
      "  (3, 4)\t1.0\n",
      "  (3, 5)\t-1.0\n",
      "  (4, 1)\t-1.0\n",
      "  (4, 4)\t1.0\n",
      "  (5, 3)\t1.0\n"
     ]
    }
   ],
   "source": [
    "import matplotlib.pyplot as plt\n",
    "from scipy import sparse\n",
    "from scipy.sparse import csr_matrix \n",
    "\n",
    "A_coord = sparse.coo_matrix((data, (row_ind, col_ind)), dtype= float)\n",
    "\n",
    "print(A_coord)"
   ]
  },
  {
   "cell_type": "code",
   "execution_count": 20,
   "metadata": {},
   "outputs": [
    {
     "name": "stdout",
     "output_type": "stream",
     "text": [
      "[[ 1.  0.  0.  0.  0.  0.]\n",
      " [ 0.  1.  1.  0.  0.  0.]\n",
      " [ 0.  0.  1. -1.  0.  0.]\n",
      " [ 1.  0.  0.  0.  1. -1.]\n",
      " [ 0. -1.  0.  0.  1.  0.]\n",
      " [ 0.  0.  0.  1.  0.  0.]]\n"
     ]
    }
   ],
   "source": [
    "A = sparse.coo_matrix((data, (row_ind, col_ind)), dtype= float).toarray()\n",
    "print(A)"
   ]
  },
  {
   "cell_type": "code",
   "execution_count": 21,
   "metadata": {},
   "outputs": [
    {
     "name": "stdout",
     "output_type": "stream",
     "text": [
      "[[ 1.  0.  0.  0.  0.  0.]\n",
      " [ 0.  1. -1.  0.  0. -1.]\n",
      " [ 0.  0.  1.  0.  0.  1.]\n",
      " [ 0.  0.  0.  0.  0.  1.]\n",
      " [ 0.  1. -1.  0.  1. -1.]\n",
      " [ 1.  1. -1. -1.  1. -1.]]\n"
     ]
    }
   ],
   "source": [
    "A_inv = np.linalg.inv(A)\n",
    "print(A_inv)"
   ]
  },
  {
   "cell_type": "code",
   "execution_count": 22,
   "metadata": {},
   "outputs": [
    {
     "name": "stdout",
     "output_type": "stream",
     "text": [
      "--------------------------------------------------\n",
      "     Valores das vazões\n",
      "--------------------------------------------------\n",
      "O resultado de Q2 = 0.60 m³/min\n",
      "O resultado de Q4 = 0.10 m³/min\n",
      "O resultado de Q5 = 0.30 m³/min\n",
      "O resultado de Q7 = 0.20 m³/min\n",
      "O resultado de Q9 = 0.40 m³/min\n",
      "O resultado de Q10 = 1.00 m³/min\n",
      "--------------------------------------------------\n"
     ]
    }
   ],
   "source": [
    "x = A_inv.dot(Q)\n",
    "\n",
    "Q2 = x[0]\n",
    "Q4= x[1]\n",
    "Q5 = x[2]\n",
    "Q7 = x[3]\n",
    "Q9 = x[4]\n",
    "Q10 = x[5]\n",
    "\n",
    "def line():\n",
    "    print('-'*50)\n",
    "\n",
    "line()\n",
    "print('     Valores das vazões')\n",
    "line()\n",
    "print('O resultado de Q2 = {:.2f}'.format(Q2), 'm³/min')\n",
    "print('O resultado de Q4 = {:.2f}'.format(Q4), 'm³/min')\n",
    "print('O resultado de Q5 = {:.2f}'.format(Q5), 'm³/min')\n",
    "print('O resultado de Q7 = {:.2f}'.format(Q7), 'm³/min')\n",
    "print('O resultado de Q9 = {:.2f}'.format(Q9), 'm³/min')\n",
    "print('O resultado de Q10 = {:.2f}'.format(Q10), 'm³/min')\n",
    "line()"
   ]
  },
  {
   "cell_type": "code",
   "execution_count": 25,
   "metadata": {},
   "outputs": [
    {
     "name": "stdout",
     "output_type": "stream",
     "text": [
      "--------------------------------------------------\n",
      "Conferindo valores das vazões\n",
      "--------------------------------------------------\n",
      "O resultado de Q2 = 0.60 m³/min\n",
      "O resultado de Q4 = 0.10 m³/min\n",
      "O resultado de Q5 = 0.30 m³/min\n",
      "O resultado de Q7 = 0.20 m³/min\n",
      "O resultado de Q9 = 0.40 m³/min\n",
      "O resultado de Q10 = 1.00 m³/min\n",
      "--------------------------------------------------\n"
     ]
    }
   ],
   "source": [
    "#Conferindo os resultados \n",
    "\n",
    "Q2 = 0.6\n",
    "Q5 = 0.1 + 0.2\n",
    "Q7 = 0.2\n",
    "Q4 = 0.4 - Q5\n",
    "Q9 = 0.3 + Q4 \n",
    "Q10 = Q9 + Q2\n",
    "\n",
    "def line():\n",
    "    print('-'*50)\n",
    "\n",
    "line()\n",
    "print('Conferindo valores das vazões')\n",
    "line()\n",
    "\n",
    "print('O resultado de Q2 = {:.2f}'.format(Q2), 'm³/min')\n",
    "print('O resultado de Q4 = {:.2f}'.format(Q4), 'm³/min')\n",
    "print('O resultado de Q5 = {:.2f}'.format(Q5), 'm³/min')\n",
    "print('O resultado de Q7 = {:.2f}'.format(Q7), 'm³/min')\n",
    "print('O resultado de Q9 = {:.2f}'.format(Q9), 'm³/min')\n",
    "print('O resultado de Q10 = {:.2f}'.format(Q10), 'm³/min')\n",
    "line()"
   ]
  }
 ],
 "metadata": {
  "kernelspec": {
   "display_name": "modelagem",
   "language": "python",
   "name": "python3"
  },
  "language_info": {
   "codemirror_mode": {
    "name": "ipython",
    "version": 3
   },
   "file_extension": ".py",
   "mimetype": "text/x-python",
   "name": "python",
   "nbconvert_exporter": "python",
   "pygments_lexer": "ipython3",
   "version": "3.11.9"
  }
 },
 "nbformat": 4,
 "nbformat_minor": 2
}
